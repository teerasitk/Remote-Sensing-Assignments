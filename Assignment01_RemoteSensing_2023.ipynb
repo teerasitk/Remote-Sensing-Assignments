{
  "nbformat": 4,
  "nbformat_minor": 0,
  "metadata": {
    "colab": {
      "provenance": [],
      "mount_file_id": "1p9nzY81DdG4Pze1WmRqkVZpaytCrVyyx",
      "authorship_tag": "ABX9TyNtbfjfjyHSKUn2sK7hNfpd",
      "include_colab_link": true
    },
    "kernelspec": {
      "name": "python3",
      "display_name": "Python 3"
    },
    "language_info": {
      "name": "python"
    }
  },
  "cells": [
    {
      "cell_type": "markdown",
      "metadata": {
        "id": "view-in-github",
        "colab_type": "text"
      },
      "source": [
        "<a href=\"https://colab.research.google.com/github/teerasitk/Remote-Sensing-Assignments/blob/main/Assignment01_RemoteSensing_2023.ipynb\" target=\"_parent\"><img src=\"https://colab.research.google.com/assets/colab-badge.svg\" alt=\"Open In Colab\"/></a>"
      ]
    },
    {
      "cell_type": "code",
      "execution_count": null,
      "metadata": {
        "colab": {
          "base_uri": "https://localhost:8080/"
        },
        "id": "xAwGGXUMjI1Z",
        "outputId": "4a180fcc-ecd5-46f3-a782-9414ac6a1a8f"
      },
      "outputs": [
        {
          "output_type": "stream",
          "name": "stdout",
          "text": [
            "To authorize access needed by Earth Engine, open the following URL in a web browser and follow the instructions. If the web browser does not start automatically, please manually browse the URL below.\n",
            "\n",
            "    https://accounts.google.com/o/oauth2/auth?client_id=517222506229-vsmmajv00ul0bs7p89v5m89qs8eb9359.apps.googleusercontent.com&scope=https%3A%2F%2Fwww.googleapis.com%2Fauth%2Fearthengine+https%3A%2F%2Fwww.googleapis.com%2Fauth%2Fdevstorage.full_control&redirect_uri=urn%3Aietf%3Awg%3Aoauth%3A2.0%3Aoob&response_type=code&code_challenge=_qkBJ4x_m0OlmbiJiOp8-nflX9Hb84ru9E8wst7djeE&code_challenge_method=S256\n",
            "\n",
            "The authorization workflow will generate a code, which you should paste in the box below. \n",
            "Enter verification code: 4/1AX4XfWhLJHky13pLjBAxd_bkubk_ZylatRmy7vkEvGFQ4UVKURs3NE_OdgY\n",
            "\n",
            "Successfully saved authorization token.\n"
          ]
        }
      ],
      "source": [
        "import ee\n",
        "ee.Authenticate()\n",
        "ee.Initialize()"
      ]
    },
    {
      "cell_type": "code",
      "source": [
        "aoi1 = ee.Geometry.Polygon([[99.39057648710417,10.894050844340851],[99.3908339791696,10.895968296370148],\n",
        "                            [99.39088330080774,10.896459292060072],[99.3903361301687,10.896648929188819],\n",
        "                            [99.38997134974268,10.896533039846718],[99.38940272143152,10.897038738462893],\n",
        "                            [99.38904866984156,10.89738640576307],[99.38894138148096,10.897660325168072],\n",
        "                            [99.388587329891,10.897860496881515],[99.38801870157984,10.898092274486752],\n",
        "                            [99.38766464998987,10.897797284776013],[99.38678488543299,10.897439082591307],\n",
        "                            [99.3865703087118,10.897038738462893],[99.38631281664637,10.896153765320717],\n",
        "                            [99.38608751108912,10.89613269449954],[99.38583001902369,10.896480362858131],\n",
        "                            [99.38564762881067,10.896691070756583],[99.38575491717127,10.897154627608069],\n",
        "                            [99.38572273066309,10.897375870396303],[99.38535795023706,10.897049273841592],\n",
        "                            [99.38507900049952,10.896785889262205],[99.38468203356531,10.896785889262205],\n",
        "                            [99.38377008250025,10.896922849272576],[99.38315853884485,10.897112486105954],\n",
        "                            [99.38243970682886,10.897249445966025],[99.38227877428797,10.896901778505853],\n",
        "                            [99.3824289779928,10.896648929188819], [99.3824289779928,10.8964171504595],\n",
        "                            [99.38218221476343,10.89629072562197],[99.38168868830469,10.8962696548105],\n",
        "                            [99.38103422930506,10.896543575243316], [99.37997207453516,10.896880707737639],\n",
        "                            [99.37971458246973,10.8964171504595], [99.38145265391138,10.895795561157957],\n",
        "                            [99.38114151766565,10.895216112334912],[99.38165650179651,10.894942190680458],\n",
        "                            [99.38114151766565,10.895205576891316], [99.38068017771509,10.89530039587018],\n",
        "                            [99.38032612612513,10.894267920918706],[99.37980041315821,10.892845628131724],\n",
        "                            [99.38076066076228,10.892608767536954], [99.38126491605708,10.892640374142301],\n",
        "                            [99.38174771367976,10.893209292464675],[99.38333558141657,10.892798407118676],\n",
        "                            [99.38429044782588,10.892387521205633], [99.38447283803889,10.892292701299013],\n",
        "                            [99.38570665418574,10.892071454732825], [99.38695119916865,10.892092525841448],\n",
        "                            [99.3882386594958,10.89143932078072],[99.38918279706904,10.891144324477164],\n",
        "                            [99.39057648710417,10.894050844340851]])"
      ],
      "metadata": {
        "id": "tst26ZxQjXgd"
      },
      "execution_count": null,
      "outputs": []
    },
    {
      "cell_type": "code",
      "source": [
        "aoi2 = ee.Geometry.Polygon([[99.38831376134821,10.898066124991786],[99.38890384733149,10.897686852419538],\n",
        "                            [99.3891398817248,10.897360256206087],[99.38948320447871,10.897044195013116],\n",
        "                            [99.39022349416682,10.896654385746192],[99.39074920713374,10.896454213221531],\n",
        "                            [99.39108180105158,10.896412071620233],[99.39165042936274,10.89670706270399],\n",
        "                            [99.39204739629695,10.897139013406248],[99.3926696687884,10.897844882716715],\n",
        "                            [99.39276622831294,10.898013448274543], [99.39308809339472,10.898297902436877],\n",
        "                            [99.39331339895197,10.898635032943847], [99.39404295980403,10.898793062737491],\n",
        "                            [99.39390348493525,10.897232667138868], [99.39523386060664,10.897285343994316],\n",
        "                            [99.39562009870478,10.897295879364288], [99.3956952005572,10.898201919786473],\n",
        "                            [99.39590977727839,10.898591727026377],[99.39623164236018,10.899287057591895],\n",
        "                            [99.39621018468806,10.899687398695564], [99.39616726934382,10.900045598173836],\n",
        "                            [99.39559327661463,10.90008773926057],[99.39530896245905,10.900561826075124],\n",
        "                            [99.39500855504939,10.900867348288653], [99.3947939783282,10.900962165463545],\n",
        "                            [99.3931994975983,10.901437178549639],[99.39286690368046,10.901510925102572],\n",
        "                            [99.39242702140201,10.901157995005073], [99.39168136729587,10.901189600702525],\n",
        "                            [99.39142387523044,10.90124227685746], [99.39162235869755,10.90135816436549],\n",
        "                            [99.39175110473026,10.901600474463711], [99.3915418924271,10.901637347722225],\n",
        "                            [99.39108055247654,10.901595206854973], [99.39095180644382,10.901531995542909],\n",
        "                            [99.39071040763248,10.901410840490593],[99.39048510207523,10.901447713772606],\n",
        "                            [99.39025105872541,10.901650123674145],[99.38989700713545,10.901760743417515],\n",
        "                            [99.38973607459455,10.901755475811617],[99.3895107690373,10.901755475811617],\n",
        "                            [99.38928009906202,10.901729137780753],[99.38919426837354,10.901713334961123],\n",
        "                            [99.3891674462834,10.901476292565757], [99.3891674462834,10.901334067037878],\n",
        "                            [99.38917817511945,10.900949531010978],[99.38907625117689,10.900875784318877],\n",
        "                            [99.38827695289045,10.90102854530366],[99.38816430011182,10.90039116274461],\n",
        "                            [99.38800336757093,10.898136608521257],[99.38831376134821,10.898066124991786]])"
      ],
      "metadata": {
        "id": "ZlXtOodFkELx"
      },
      "execution_count": null,
      "outputs": []
    },
    {
      "cell_type": "markdown",
      "source": [
        "Let us see where these two polygons located!!"
      ],
      "metadata": {
        "id": "E7F7W4ywkqAI"
      }
    },
    {
      "cell_type": "code",
      "source": [
        "import folium\n",
        "c_y1,c_x1 = aoi1.centroid().getInfo()['coordinates']\n",
        "c_y2, c_x2 = aoi2.centroid().getInfo()['coordinates']\n",
        "c_x = (c_x1 + c_x2)/2\n",
        "c_y = (c_y1 + c_y2)/2\n",
        "midterm_map = folium.Map(location=[c_x, c_y], zoom_start=15) #lon, lat and at zoom level 15 (more value higher detail)\n",
        "basemaps = {'Google Maps': folium.TileLayer(\n",
        "    tiles = 'https://mt1.google.com/vt/lyrs=m&x={x}&y={y}&z={z}',  #google map service site\n",
        "    attr = 'Google',\n",
        "    name = 'Google Maps',\n",
        "    overlay = True,\n",
        "    control=True)} # tell folium that the base map is the google map.\n",
        "basemaps['Google Maps'].add_to(midterm_map) # add google earth data into ku_map\n",
        "\n",
        "folium.GeoJson(aoi1.getInfo(), name=\"AOI1\").add_to(midterm_map)\n",
        "folium.GeoJson(aoi2.getInfo(), name=\"AOI2\").add_to(midterm_map)\n",
        "#We export the polygon to the GeoJson format first, and add to ku_map\n",
        "midterm_map# this is use to display image"
      ],
      "metadata": {
        "colab": {
          "base_uri": "https://localhost:8080/",
          "height": 915
        },
        "id": "2YthcPdXk6l3",
        "outputId": "499a3a67-e7d1-4cc1-a22a-58520696a4df"
      },
      "execution_count": null,
      "outputs": [
        {
          "output_type": "execute_result",
          "data": {
            "text/html": [
              "<div style=\"width:100%;\"><div style=\"position:relative;width:100%;height:0;padding-bottom:60%;\"><span style=\"color:#565656\">Make this Notebook Trusted to load map: File -> Trust Notebook</span><iframe src=\"about:blank\" style=\"position:absolute;width:100%;height:100%;left:0;top:0;border:none !important;\" data-html=%3C%21DOCTYPE%20html%3E%0A%3Chead%3E%20%20%20%20%0A%20%20%20%20%3Cmeta%20http-equiv%3D%22content-type%22%20content%3D%22text/html%3B%20charset%3DUTF-8%22%20/%3E%0A%20%20%20%20%3Cscript%3EL_PREFER_CANVAS%3Dfalse%3B%20L_NO_TOUCH%3Dfalse%3B%20L_DISABLE_3D%3Dfalse%3B%3C/script%3E%0A%20%20%20%20%3Cscript%20src%3D%22https%3A//cdn.jsdelivr.net/npm/leaflet%401.4.0/dist/leaflet.js%22%3E%3C/script%3E%0A%20%20%20%20%3Cscript%20src%3D%22https%3A//code.jquery.com/jquery-1.12.4.min.js%22%3E%3C/script%3E%0A%20%20%20%20%3Cscript%20src%3D%22https%3A//maxcdn.bootstrapcdn.com/bootstrap/3.2.0/js/bootstrap.min.js%22%3E%3C/script%3E%0A%20%20%20%20%3Cscript%20src%3D%22https%3A//cdnjs.cloudflare.com/ajax/libs/Leaflet.awesome-markers/2.0.2/leaflet.awesome-markers.js%22%3E%3C/script%3E%0A%20%20%20%20%3Clink%20rel%3D%22stylesheet%22%20href%3D%22https%3A//cdn.jsdelivr.net/npm/leaflet%401.4.0/dist/leaflet.css%22/%3E%0A%20%20%20%20%3Clink%20rel%3D%22stylesheet%22%20href%3D%22https%3A//maxcdn.bootstrapcdn.com/bootstrap/3.2.0/css/bootstrap.min.css%22/%3E%0A%20%20%20%20%3Clink%20rel%3D%22stylesheet%22%20href%3D%22https%3A//maxcdn.bootstrapcdn.com/bootstrap/3.2.0/css/bootstrap-theme.min.css%22/%3E%0A%20%20%20%20%3Clink%20rel%3D%22stylesheet%22%20href%3D%22https%3A//maxcdn.bootstrapcdn.com/font-awesome/4.6.3/css/font-awesome.min.css%22/%3E%0A%20%20%20%20%3Clink%20rel%3D%22stylesheet%22%20href%3D%22https%3A//cdnjs.cloudflare.com/ajax/libs/Leaflet.awesome-markers/2.0.2/leaflet.awesome-markers.css%22/%3E%0A%20%20%20%20%3Clink%20rel%3D%22stylesheet%22%20href%3D%22https%3A//rawcdn.githack.com/python-visualization/folium/master/folium/templates/leaflet.awesome.rotate.css%22/%3E%0A%20%20%20%20%3Cstyle%3Ehtml%2C%20body%20%7Bwidth%3A%20100%25%3Bheight%3A%20100%25%3Bmargin%3A%200%3Bpadding%3A%200%3B%7D%3C/style%3E%0A%20%20%20%20%3Cstyle%3E%23map%20%7Bposition%3Aabsolute%3Btop%3A0%3Bbottom%3A0%3Bright%3A0%3Bleft%3A0%3B%7D%3C/style%3E%0A%20%20%20%20%0A%20%20%20%20%3Cmeta%20name%3D%22viewport%22%20content%3D%22width%3Ddevice-width%2C%0A%20%20%20%20%20%20%20%20initial-scale%3D1.0%2C%20maximum-scale%3D1.0%2C%20user-scalable%3Dno%22%20/%3E%0A%20%20%20%20%3Cstyle%3E%23map_d1669626287a4b1caf6b8d2ce355781f%20%7B%0A%20%20%20%20%20%20%20%20position%3A%20relative%3B%0A%20%20%20%20%20%20%20%20width%3A%20100.0%25%3B%0A%20%20%20%20%20%20%20%20height%3A%20100.0%25%3B%0A%20%20%20%20%20%20%20%20left%3A%200.0%25%3B%0A%20%20%20%20%20%20%20%20top%3A%200.0%25%3B%0A%20%20%20%20%20%20%20%20%7D%0A%20%20%20%20%3C/style%3E%0A%3C/head%3E%0A%3Cbody%3E%20%20%20%20%0A%20%20%20%20%0A%20%20%20%20%3Cdiv%20class%3D%22folium-map%22%20id%3D%22map_d1669626287a4b1caf6b8d2ce355781f%22%20%3E%3C/div%3E%0A%3C/body%3E%0A%3Cscript%3E%20%20%20%20%0A%20%20%20%20%0A%20%20%20%20%0A%20%20%20%20%20%20%20%20var%20bounds%20%3D%20null%3B%0A%20%20%20%20%0A%0A%20%20%20%20var%20map_d1669626287a4b1caf6b8d2ce355781f%20%3D%20L.map%28%0A%20%20%20%20%20%20%20%20%27map_d1669626287a4b1caf6b8d2ce355781f%27%2C%20%7B%0A%20%20%20%20%20%20%20%20center%3A%20%5B10.896954083390243%2C%2099.38883677574847%5D%2C%0A%20%20%20%20%20%20%20%20zoom%3A%2015%2C%0A%20%20%20%20%20%20%20%20maxBounds%3A%20bounds%2C%0A%20%20%20%20%20%20%20%20layers%3A%20%5B%5D%2C%0A%20%20%20%20%20%20%20%20worldCopyJump%3A%20false%2C%0A%20%20%20%20%20%20%20%20crs%3A%20L.CRS.EPSG3857%2C%0A%20%20%20%20%20%20%20%20zoomControl%3A%20true%2C%0A%20%20%20%20%20%20%20%20%7D%29%3B%0A%0A%0A%20%20%20%20%0A%20%20%20%20var%20tile_layer_3bba723886a54e0a9f44631d066a9ff9%20%3D%20L.tileLayer%28%0A%20%20%20%20%20%20%20%20%27https%3A//%7Bs%7D.tile.openstreetmap.org/%7Bz%7D/%7Bx%7D/%7By%7D.png%27%2C%0A%20%20%20%20%20%20%20%20%7B%0A%20%20%20%20%20%20%20%20%22attribution%22%3A%20null%2C%0A%20%20%20%20%20%20%20%20%22detectRetina%22%3A%20false%2C%0A%20%20%20%20%20%20%20%20%22maxNativeZoom%22%3A%2018%2C%0A%20%20%20%20%20%20%20%20%22maxZoom%22%3A%2018%2C%0A%20%20%20%20%20%20%20%20%22minZoom%22%3A%200%2C%0A%20%20%20%20%20%20%20%20%22noWrap%22%3A%20false%2C%0A%20%20%20%20%20%20%20%20%22opacity%22%3A%201%2C%0A%20%20%20%20%20%20%20%20%22subdomains%22%3A%20%22abc%22%2C%0A%20%20%20%20%20%20%20%20%22tms%22%3A%20false%0A%7D%29.addTo%28map_d1669626287a4b1caf6b8d2ce355781f%29%3B%0A%20%20%20%20var%20tile_layer_e2909aeb707340f7b3f9235b6cef6b0e%20%3D%20L.tileLayer%28%0A%20%20%20%20%20%20%20%20%27https%3A//mt1.google.com/vt/lyrs%3Dm%26x%3D%7Bx%7D%26y%3D%7By%7D%26z%3D%7Bz%7D%27%2C%0A%20%20%20%20%20%20%20%20%7B%0A%20%20%20%20%20%20%20%20%22attribution%22%3A%20%22Google%22%2C%0A%20%20%20%20%20%20%20%20%22detectRetina%22%3A%20false%2C%0A%20%20%20%20%20%20%20%20%22maxNativeZoom%22%3A%2018%2C%0A%20%20%20%20%20%20%20%20%22maxZoom%22%3A%2018%2C%0A%20%20%20%20%20%20%20%20%22minZoom%22%3A%200%2C%0A%20%20%20%20%20%20%20%20%22noWrap%22%3A%20false%2C%0A%20%20%20%20%20%20%20%20%22opacity%22%3A%201%2C%0A%20%20%20%20%20%20%20%20%22subdomains%22%3A%20%22abc%22%2C%0A%20%20%20%20%20%20%20%20%22tms%22%3A%20false%0A%7D%29.addTo%28map_d1669626287a4b1caf6b8d2ce355781f%29%3B%0A%20%20%20%20%0A%20%20%20%20%20%20%20%20var%20geo_json_1505d04837e24ed1ae7190ced34dcd05%20%3D%20L.geoJson%28%0A%20%20%20%20%20%20%20%20%20%20%20%20%7B%22features%22%3A%20%5B%7B%22geometry%22%3A%20%7B%22coordinates%22%3A%20%5B%5B%5B99.39057648710417%2C%2010.894050844340851%5D%2C%20%5B99.3908339791696%2C%2010.895968296370148%5D%2C%20%5B99.39088330080774%2C%2010.896459292060072%5D%2C%20%5B99.3903361301687%2C%2010.896648929188819%5D%2C%20%5B99.38997134974268%2C%2010.896533039846718%5D%2C%20%5B99.38940272143152%2C%2010.897038738462893%5D%2C%20%5B99.38904866984156%2C%2010.89738640576307%5D%2C%20%5B99.38894138148096%2C%2010.897660325168072%5D%2C%20%5B99.388587329891%2C%2010.897860496881515%5D%2C%20%5B99.38801870157984%2C%2010.898092274486752%5D%2C%20%5B99.38766464998987%2C%2010.897797284776013%5D%2C%20%5B99.38678488543299%2C%2010.897439082591307%5D%2C%20%5B99.3865703087118%2C%2010.897038738462893%5D%2C%20%5B99.38631281664637%2C%2010.896153765320717%5D%2C%20%5B99.38608751108912%2C%2010.89613269449954%5D%2C%20%5B99.38583001902369%2C%2010.896480362858131%5D%2C%20%5B99.38564762881067%2C%2010.896691070756583%5D%2C%20%5B99.38575491717127%2C%2010.897154627608069%5D%2C%20%5B99.38572273066309%2C%2010.897375870396303%5D%2C%20%5B99.38535795023706%2C%2010.897049273841592%5D%2C%20%5B99.38507900049952%2C%2010.896785889262205%5D%2C%20%5B99.38468203356531%2C%2010.896785889262205%5D%2C%20%5B99.38377008250025%2C%2010.896922849272576%5D%2C%20%5B99.38315853884485%2C%2010.897112486105954%5D%2C%20%5B99.38243970682886%2C%2010.897249445966025%5D%2C%20%5B99.38227877428797%2C%2010.896901778505853%5D%2C%20%5B99.3824289779928%2C%2010.896648929188819%5D%2C%20%5B99.3824289779928%2C%2010.8964171504595%5D%2C%20%5B99.38218221476343%2C%2010.89629072562197%5D%2C%20%5B99.38168868830469%2C%2010.8962696548105%5D%2C%20%5B99.38103422930506%2C%2010.896543575243316%5D%2C%20%5B99.37997207453516%2C%2010.896880707737639%5D%2C%20%5B99.37971458246973%2C%2010.8964171504595%5D%2C%20%5B99.38145265391138%2C%2010.895795561157957%5D%2C%20%5B99.38114151766565%2C%2010.895216112334912%5D%2C%20%5B99.38165650179651%2C%2010.894942190680458%5D%2C%20%5B99.38114151766565%2C%2010.895205576891316%5D%2C%20%5B99.38068017771509%2C%2010.89530039587018%5D%2C%20%5B99.38032612612513%2C%2010.894267920918706%5D%2C%20%5B99.37980041315821%2C%2010.892845628131724%5D%2C%20%5B99.38076066076228%2C%2010.892608767536954%5D%2C%20%5B99.38126491605708%2C%2010.892640374142301%5D%2C%20%5B99.38174771367976%2C%2010.893209292464675%5D%2C%20%5B99.38333558141657%2C%2010.892798407118676%5D%2C%20%5B99.38429044782588%2C%2010.892387521205633%5D%2C%20%5B99.38447283803889%2C%2010.892292701299013%5D%2C%20%5B99.38570665418574%2C%2010.892071454732825%5D%2C%20%5B99.38695119916865%2C%2010.892092525841448%5D%2C%20%5B99.3882386594958%2C%2010.89143932078072%5D%2C%20%5B99.38918279706904%2C%2010.891144324477164%5D%2C%20%5B99.39057648710417%2C%2010.894050844340851%5D%5D%5D%2C%20%22type%22%3A%20%22Polygon%22%7D%2C%20%22properties%22%3A%20%7B%22highlight%22%3A%20%7B%7D%2C%20%22style%22%3A%20%7B%7D%7D%2C%20%22type%22%3A%20%22Feature%22%7D%5D%2C%20%22type%22%3A%20%22FeatureCollection%22%7D%2C%0A%20%20%20%20%20%20%20%20%20%20%20%20%7B%0A%20%20%20%20%20%20%20%20%20%20%20%20%7D%0A%20%20%20%20%20%20%20%20%29.addTo%28map_d1669626287a4b1caf6b8d2ce355781f%20%29%3B%0A%20%20%20%20%20%20%20%20geo_json_1505d04837e24ed1ae7190ced34dcd05.setStyle%28function%28feature%29%20%7Breturn%20feature.properties.style%3B%7D%29%3B%0A%20%20%20%20%20%20%20%20%0A%20%20%20%20%0A%20%20%20%20%20%20%20%20var%20geo_json_ec4287030fd74505b2e6ebf9abf352c4%20%3D%20L.geoJson%28%0A%20%20%20%20%20%20%20%20%20%20%20%20%7B%22features%22%3A%20%5B%7B%22geometry%22%3A%20%7B%22coordinates%22%3A%20%5B%5B%5B99.38831376134821%2C%2010.898066124991786%5D%2C%20%5B99.38890384733149%2C%2010.897686852419538%5D%2C%20%5B99.3891398817248%2C%2010.897360256206087%5D%2C%20%5B99.38948320447871%2C%2010.897044195013116%5D%2C%20%5B99.39022349416682%2C%2010.896654385746192%5D%2C%20%5B99.39074920713374%2C%2010.896454213221531%5D%2C%20%5B99.39108180105158%2C%2010.896412071620233%5D%2C%20%5B99.39165042936274%2C%2010.89670706270399%5D%2C%20%5B99.39204739629695%2C%2010.897139013406248%5D%2C%20%5B99.3926696687884%2C%2010.897844882716715%5D%2C%20%5B99.39276622831294%2C%2010.898013448274543%5D%2C%20%5B99.39308809339472%2C%2010.898297902436877%5D%2C%20%5B99.39331339895197%2C%2010.898635032943847%5D%2C%20%5B99.39404295980403%2C%2010.898793062737491%5D%2C%20%5B99.39390348493525%2C%2010.897232667138868%5D%2C%20%5B99.39523386060664%2C%2010.897285343994316%5D%2C%20%5B99.39562009870478%2C%2010.897295879364288%5D%2C%20%5B99.3956952005572%2C%2010.898201919786473%5D%2C%20%5B99.39590977727839%2C%2010.898591727026377%5D%2C%20%5B99.39623164236018%2C%2010.899287057591895%5D%2C%20%5B99.39621018468806%2C%2010.899687398695564%5D%2C%20%5B99.39616726934382%2C%2010.900045598173836%5D%2C%20%5B99.39559327661463%2C%2010.90008773926057%5D%2C%20%5B99.39530896245905%2C%2010.900561826075124%5D%2C%20%5B99.39500855504939%2C%2010.900867348288653%5D%2C%20%5B99.3947939783282%2C%2010.900962165463545%5D%2C%20%5B99.3931994975983%2C%2010.901437178549639%5D%2C%20%5B99.39286690368046%2C%2010.901510925102572%5D%2C%20%5B99.39242702140201%2C%2010.901157995005073%5D%2C%20%5B99.39168136729587%2C%2010.901189600702525%5D%2C%20%5B99.39142387523044%2C%2010.90124227685746%5D%2C%20%5B99.39162235869755%2C%2010.90135816436549%5D%2C%20%5B99.39175110473026%2C%2010.901600474463711%5D%2C%20%5B99.3915418924271%2C%2010.901637347722225%5D%2C%20%5B99.39108055247654%2C%2010.901595206854973%5D%2C%20%5B99.39095180644382%2C%2010.901531995542909%5D%2C%20%5B99.39071040763248%2C%2010.901410840490593%5D%2C%20%5B99.39048510207523%2C%2010.901447713772606%5D%2C%20%5B99.39025105872541%2C%2010.901650123674145%5D%2C%20%5B99.38989700713545%2C%2010.901760743417515%5D%2C%20%5B99.38973607459455%2C%2010.901755475811617%5D%2C%20%5B99.3895107690373%2C%2010.901755475811617%5D%2C%20%5B99.38928009906202%2C%2010.901729137780753%5D%2C%20%5B99.38919426837354%2C%2010.901713334961123%5D%2C%20%5B99.3891674462834%2C%2010.901476292565757%5D%2C%20%5B99.3891674462834%2C%2010.901334067037878%5D%2C%20%5B99.38917817511945%2C%2010.900949531010978%5D%2C%20%5B99.38907625117689%2C%2010.900875784318877%5D%2C%20%5B99.38827695289045%2C%2010.90102854530366%5D%2C%20%5B99.38816430011182%2C%2010.90039116274461%5D%2C%20%5B99.38800336757093%2C%2010.898136608521257%5D%2C%20%5B99.38831376134821%2C%2010.898066124991786%5D%5D%5D%2C%20%22type%22%3A%20%22Polygon%22%7D%2C%20%22properties%22%3A%20%7B%22highlight%22%3A%20%7B%7D%2C%20%22style%22%3A%20%7B%7D%7D%2C%20%22type%22%3A%20%22Feature%22%7D%5D%2C%20%22type%22%3A%20%22FeatureCollection%22%7D%2C%0A%20%20%20%20%20%20%20%20%20%20%20%20%7B%0A%20%20%20%20%20%20%20%20%20%20%20%20%7D%0A%20%20%20%20%20%20%20%20%29.addTo%28map_d1669626287a4b1caf6b8d2ce355781f%20%29%3B%0A%20%20%20%20%20%20%20%20geo_json_ec4287030fd74505b2e6ebf9abf352c4.setStyle%28function%28feature%29%20%7Breturn%20feature.properties.style%3B%7D%29%3B%0A%20%20%20%20%20%20%20%20%0A%3C/script%3E onload=\"this.contentDocument.open();this.contentDocument.write(    decodeURIComponent(this.getAttribute('data-html')));this.contentDocument.close();\" allowfullscreen webkitallowfullscreen mozallowfullscreen></iframe></div></div>"
            ],
            "text/plain": [
              "<folium.folium.Map at 0x7f139ab6b550>"
            ]
          },
          "metadata": {},
          "execution_count": 4
        }
      ]
    },
    {
      "cell_type": "markdown",
      "source": [
        "## Question 1:\n",
        "\n",
        " Use the sentinel 2 Surfrace Reflectance (e.g., \"COPERNICUS/S2_SR_HARMONIZED\") to download all sentinel 2 images (\"B2\", \"B3\", \"B4\", \"B8\" ) on aoi1 and aoi2 from 2023-01-01 to 2023-12-31. How many images can you download? Here, I suggest to use ee.batch.Export.image.toDrive function."
      ],
      "metadata": {
        "id": "xPVZ-OvtrNHX"
      }
    },
    {
      "cell_type": "code",
      "source": [
        "aoisum = aoi1.union(aoi2)\n",
        "sen2 = ee.ImageCollection('ee.ImageCollection(\"COPERNICUS/S2_SR_HARMONIZED\")').filterDate(\"2021-01-01\", \"2021-12-31\").filterBounds(aoisum)\n",
        "sen2 = sen2.select([\"B2\", \"B3\", \"B4\", \"B8\"])"
      ],
      "metadata": {
        "id": "Vg5AxrB5lrXG"
      },
      "execution_count": null,
      "outputs": []
    },
    {
      "cell_type": "code",
      "source": [
        "# your code is here."
      ],
      "metadata": {
        "id": "JjhodyAqslBc"
      },
      "execution_count": null,
      "outputs": []
    },
    {
      "cell_type": "markdown",
      "source": [
        "## Question 2:\n",
        "Out of all imges that you downloaded. How many images where both aoi1 and aoi2 are *not* covered by clouds?"
      ],
      "metadata": {
        "id": "6MvSQJxJrvSn"
      }
    },
    {
      "cell_type": "code",
      "source": [
        "# your code is here."
      ],
      "metadata": {
        "id": "3HKOHI0frumC"
      },
      "execution_count": null,
      "outputs": []
    },
    {
      "cell_type": "markdown",
      "source": [
        "## Question 3:\n",
        "Use the first image after 1 Jan 2023 (It is a cloud-free image) normalized histogram both areas of interest for Bands \"B2\", \"B3\", \"B4\", and \"B8\". Find the best fit normal models for each region as well."
      ],
      "metadata": {
        "id": "RhGGrk1nvbb3"
      }
    },
    {
      "cell_type": "code",
      "source": [
        "# your code is here."
      ],
      "metadata": {
        "id": "OdGuMIiGvawi"
      },
      "execution_count": null,
      "outputs": []
    },
    {
      "cell_type": "markdown",
      "source": [
        "## Question 4:\n",
        "Next, use ee.Reducer.mean and ee.Reducer.covariance to compute the mean vectors and covariance matrices on each areas of interest on 1-January-2021 and 21-Apr-2021"
      ],
      "metadata": {
        "id": "lWI08Xauxmx9"
      }
    },
    {
      "cell_type": "code",
      "source": [
        "# your code is here."
      ],
      "metadata": {
        "id": "bhz1sWcYyUWA"
      },
      "execution_count": null,
      "outputs": []
    },
    {
      "cell_type": "markdown",
      "source": [
        "## Question 5:\n",
        "\n",
        "AOI1 and AOI1 are from two types of ground covers which are Rubber and Palm trees, respectively. To be able to distinguish between these two classes, the probability density function (PDF) shuold be different. To measure the differences in the histogram, we usually use KL-divergence from Class 1 to Class 2. It is defined as\n",
        "\n",
        "$d_{12} = \\frac{1}{2}\\left[\\log\\frac{|\\Sigma_1|}{|\\Sigma_2|} + \\mathrm{tr}\\left(\\Sigma_2^{-1}\\Sigma_1\\right) + \\left(\\mu_1-\\mu_2\\right)^T\\Sigma_2^{-1}\\left(\\mu_1-\\mu_2\\right)- N \\right]$\n",
        "\n",
        "where $N$ is the number of bands, $\\mu_j$ is the mean vector of AOI $j$, and $\\Sigma_j$ is the covariance matrix of AOI $j$.\n",
        "\n",
        "Thus, the KL distance between two AOIs is defined as\n",
        "\n",
        "$d_{KL}=\\frac{d_{12}+ d_{21}}{2}$\n",
        "\n",
        "Report $d_{KL}$ on 1-Jan-2021 and 21-Apr-2021. Which Dates provide better discrimination power (more $d_{kl}$)."
      ],
      "metadata": {
        "id": "_OESYDQIyVRl"
      }
    },
    {
      "cell_type": "code",
      "source": [
        "# your code is here."
      ],
      "metadata": {
        "id": "Rv8kZJtB3m9D"
      },
      "execution_count": null,
      "outputs": []
    },
    {
      "cell_type": "markdown",
      "source": [
        "## Question 6:\n",
        "\n",
        "Compute the GLM texture on the 21-April-2021 on Band B8 with size=11. The Fisher discriminant function is defined as\n",
        "\n",
        "$J(w)=\\frac{\\left(\\mu_{t1}-\\mu_{t2}\\right)^2}{\\sigma_{t1}^2 + \\sigma_{t1}^2}$\n",
        "\n",
        "where $\\mu_{tj}$ and $\\sigma_{tj}^2$ is the mean value and variance of texture $t$ for AOI $j$.\n",
        "\n",
        "Which Texture measure gives the maximum fisher discriminant function? Here, higher the value more discriminat power it has"
      ],
      "metadata": {
        "id": "R-YbSE3p3YpG"
      }
    },
    {
      "cell_type": "code",
      "source": [
        "# your code is here."
      ],
      "metadata": {
        "id": "_-hJW4Ns64XY"
      },
      "execution_count": null,
      "outputs": []
    }
  ]
}